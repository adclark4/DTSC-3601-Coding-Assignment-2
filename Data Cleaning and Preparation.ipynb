{
 "cells": [
  {
   "cell_type": "code",
   "execution_count": 7,
   "id": "ef7075f7",
   "metadata": {},
   "outputs": [
    {
     "name": "stdout",
     "output_type": "stream",
     "text": [
      "(100, 8)\n",
      "  CustomerID    Age       State     Income  Purchases LastPurchaseDate  \\\n",
      "0    CUST001   40.0          CA    40000.0        0.0              NaN   \n",
      "1    CUST002   40.0  california    40000.0        1.0              NaN   \n",
      "2    CUST003   60.0          NY    40000.0       10.0       2021-13-40   \n",
      "3    CUST004  200.0  California  1000000.0       10.0       2021-13-40   \n",
      "4    CUST005  200.0          CA    40000.0        NaN        5/20/2021   \n",
      "\n",
      "           Review Churn  \n",
      "0             NaN   NaN  \n",
      "1             NaN   NaN  \n",
      "2             NaN     N  \n",
      "3  Great product!     Y  \n",
      "4     Loved it!!!   Yes  \n",
      "Saved cleaned dataset to cleaned_dataset.csv\n"
     ]
    },
    {
     "name": "stderr",
     "output_type": "stream",
     "text": [
      "C:\\Users\\adcla\\AppData\\Local\\Temp\\ipykernel_21244\\2181031011.py:10: FutureWarning: DataFrame.fillna with 'method' is deprecated and will raise in a future version. Use obj.ffill() or obj.bfill() instead.\n",
      "  df = df.fillna(method='ffill')\n",
      "C:\\Users\\adcla\\AppData\\Local\\Temp\\ipykernel_21244\\2181031011.py:21: UserWarning: Could not infer format, so each element will be parsed individually, falling back to `dateutil`. To ensure parsing is consistent and as-expected, please specify a format.\n",
      "  df['LastPurchaseDate'] = pd.to_datetime(df['LastPurchaseDate'], errors='coerce')\n"
     ]
    }
   ],
   "source": [
    "# Data Cleaning and Preparation- Messy Dataset\n",
    "import pandas as pd\n",
    "\n",
    "# Step 1: Load Data\n",
    "df = pd.read_csv(\"messy_dataset.csv\")\n",
    "print(df.shape)\n",
    "print(df.head())\n",
    "\n",
    "# Step 2: Handle Missing Values\n",
    "df = df.fillna(method='ffill')\n",
    "\n",
    "# Step 3: Fix Age, State, Churn\n",
    "df = df[(df['Age'] >= 0) & (df['Age'] <= 120)]\n",
    "df['State'] = df['State'].astype(str).str.upper()\n",
    "df['Churn'] = df['Churn'].replace({1:'Yes',0:'No','Y':'Yes','N':'No'})\n",
    "\n",
    "# Step 4: Handle Outliers\n",
    "df['Income'] = df['Income'].clip(lower=df['Income'].quantile(0.05), upper=df['Income'].quantile(0.95))\n",
    "\n",
    "# Step 5: Convert Dates\n",
    "df['LastPurchaseDate'] = pd.to_datetime(df['LastPurchaseDate'], errors='coerce')\n",
    "\n",
    "# Step 6: PositiveReview Feature\n",
    "df['PositiveReview'] = df['Review'].str.contains(\"great|love|buy again\", case=False, na=False).astype(int)\n",
    "\n",
    "# Step 7: Save\n",
    "df.to_csv(\"cleaned_dataset.csv\", index=False)\n",
    "print(\"Saved cleaned dataset to cleaned_dataset.csv\")\n"
   ]
  },
  {
   "cell_type": "markdown",
   "id": "790aac71",
   "metadata": {},
   "source": [
    "## This is my favorite food: Pizza"
   ]
  }
 ],
 "metadata": {
  "kernelspec": {
   "display_name": "Python 3",
   "language": "python",
   "name": "python3"
  },
  "language_info": {
   "codemirror_mode": {
    "name": "ipython",
    "version": 3
   },
   "file_extension": ".py",
   "mimetype": "text/x-python",
   "name": "python",
   "nbconvert_exporter": "python",
   "pygments_lexer": "ipython3",
   "version": "3.13.1"
  }
 },
 "nbformat": 4,
 "nbformat_minor": 5
}
